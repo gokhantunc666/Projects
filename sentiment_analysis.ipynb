{
 "cells": [
  {
   "attachments": {},
   "cell_type": "markdown",
   "id": "41932fc9",
   "metadata": {},
   "source": [
    "## Sentiment Analysis with BERT"
   ]
  },
  {
   "cell_type": "code",
   "execution_count": 3,
   "id": "d01c5589-37f4-449b-9d36-f04df2ace402",
   "metadata": {},
   "outputs": [],
   "source": [
    "import numpy as np\n",
    "import pandas as pd\n",
    "import matplotlib.pyplot as plt\n",
    "import seaborn as sns\n",
    "\n",
    "from transformers import TFAutoModelForSequenceClassification, AutoTokenizer, pipeline\n",
    "\n",
    "import re\n",
    "\n",
    "import httpx\n",
    "from selectolax.parser import HTMLParser\n",
    "\n",
    "from dataclasses import dataclass, asdict"
   ]
  },
  {
   "attachments": {},
   "cell_type": "markdown",
   "id": "5db21c44-3d53-4027-b9ce-a516567a04ad",
   "metadata": {},
   "source": [
    "### Functions"
   ]
  },
  {
   "cell_type": "code",
   "execution_count": 4,
   "id": "47e1814a-ebef-4850-b118-e75fe7447244",
   "metadata": {},
   "outputs": [],
   "source": [
    "# creating a class for data validation\n",
    "@dataclass\n",
    "class Review:\n",
    "    quote:str\n",
    "    entry:str\n",
    "    rating:int"
   ]
  },
  {
   "cell_type": "code",
   "execution_count": 5,
   "id": "3b3a1b18-2a87-4cdf-830f-3f8f8c02b084",
   "metadata": {},
   "outputs": [],
   "source": [
    "def get_data(page_url):\n",
    "    timeout = httpx.Timeout(5.0)\n",
    "    headers = ({'User-Agent':\n",
    "\t\t\t'Mozilla/5.0 (Windows NT 10.0; Win64; x64) \\\n",
    "\t\t\t AppleWebKit/537.36 (KHTML, like Gecko) \\\n",
    "\t\t\t Chrome/90.0.4430.212 Safari/537.36',\n",
    "\t\t\t'Accept-Language': 'en-US, en;q=0.5'})\n",
    "    try:\n",
    "        response = httpx.get(page_url,\n",
    "                             headers=headers,\n",
    "                             timeout=timeout)\n",
    "    except Exception as ex :\n",
    "        print(repr(ex))\n",
    "    return response"
   ]
  },
  {
   "cell_type": "code",
   "execution_count": 6,
   "id": "6889a224-4c15-44ed-8ab7-2e329fe80224",
   "metadata": {},
   "outputs": [],
   "source": [
    "def parse_data():\n",
    "    pages = [i for i in range(15, 1200, 15) if i % 15 ==0]\n",
    "    reviews = []\n",
    "    for page in pages:\n",
    "        page_url = f\"https://www.tripadvisor.com/Restaurant_Review-g186338-d5856902-Reviews-or{page}-Bayleaf_Restaurant-London_England.html\"\n",
    "        response = get_data(page_url)\n",
    "        parser = HTMLParser(response.text)\n",
    "        for review in parser.css(\"div.mobile-more div.review-container div.ui_column.is-9\"):\n",
    "            review = Review(\n",
    "                quote  = review.css_first(\".quote\").text(),\n",
    "                entry  = review.css_first(\".entry\").text(),\n",
    "                rating = review.css_first(\"span\").attrs[\"class\"].split(\"_\")[-1][:1])\n",
    "            reviews.append(asdict(review))\n",
    "    df = pd.DataFrame.from_dict(reviews)\n",
    "    df.to_csv(\"review.csv\", index=False)\n",
    "    print(\"Completed!\")"
   ]
  },
  {
   "cell_type": "code",
   "execution_count": 7,
   "id": "2b409a4f-97a2-4995-84c2-b5e17a4f983d",
   "metadata": {},
   "outputs": [],
   "source": [
    "def model_score(review):\n",
    "    result = nlp(review)[0]\n",
    "    return int(result[\"label\"].split()[0])"
   ]
  },
  {
   "cell_type": "code",
   "execution_count": 8,
   "id": "1ad65987-575a-40c0-b327-09a13c57d186",
   "metadata": {},
   "outputs": [],
   "source": [
    "def process_entry(entry):\n",
    "    entry = entry.lower().strip()\n",
    "    entry = re.sub(r\"([?.!,])\", \" \", entry)\n",
    "    entry = re.sub(r\"[^a-z?.!,']+\", \" \", entry)\n",
    "    entry = re.sub(r'[\" \"]+', \" \", entry)\n",
    "    return entry"
   ]
  },
  {
   "cell_type": "code",
   "execution_count": 9,
   "id": "93143329-42a3-4a1a-a1a0-ceb35b6fc00b",
   "metadata": {},
   "outputs": [],
   "source": [
    "def visualize():\n",
    "    sns.histplot(data=reviews, x=\"rating\", label=\"Rating\", discrete=True)\n",
    "    sns.histplot(data=reviews, x=\"scores\", label=\"Scores\", alpha=0.4, discrete=True)\n",
    "    sns.despine()\n",
    "    plt.title(\"Actual vs Predicted Results\")\n",
    "    plt.xlabel(\"Rating\")\n",
    "    plt.ylabel(\"Review Counts\")\n",
    "    plt.grid(axis='y')\n",
    "    plt.legend()\n",
    "    plt.show()"
   ]
  },
  {
   "attachments": {},
   "cell_type": "markdown",
   "id": "4d2e1e1a-418b-4c6b-ae93-ca614603f389",
   "metadata": {},
   "source": [
    "### Getting Data"
   ]
  },
  {
   "cell_type": "code",
   "execution_count": 11,
   "id": "52d3f8b7-25a6-4145-b586-2938d2d54b8e",
   "metadata": {
    "tags": []
   },
   "outputs": [],
   "source": [
    "parse_data() # download the data"
   ]
  },
  {
   "cell_type": "code",
   "execution_count": 11,
   "id": "69a5ceeb-18f4-497a-a053-5ec6f7897e1f",
   "metadata": {},
   "outputs": [],
   "source": [
    "reviews = pd.read_csv(\"Data/reviews.csv\")"
   ]
  },
  {
   "cell_type": "code",
   "execution_count": 12,
   "id": "876871e7-4ee4-456c-a015-a310049adb45",
   "metadata": {},
   "outputs": [
    {
     "data": {
      "text/html": [
       "<div>\n",
       "<style scoped>\n",
       "    .dataframe tbody tr th:only-of-type {\n",
       "        vertical-align: middle;\n",
       "    }\n",
       "\n",
       "    .dataframe tbody tr th {\n",
       "        vertical-align: top;\n",
       "    }\n",
       "\n",
       "    .dataframe thead th {\n",
       "        text-align: right;\n",
       "    }\n",
       "</style>\n",
       "<table border=\"1\" class=\"dataframe\">\n",
       "  <thead>\n",
       "    <tr style=\"text-align: right;\">\n",
       "      <th></th>\n",
       "      <th>quote</th>\n",
       "      <th>entry</th>\n",
       "      <th>rating</th>\n",
       "    </tr>\n",
       "  </thead>\n",
       "  <tbody>\n",
       "    <tr>\n",
       "      <th>0</th>\n",
       "      <td>Amazing</td>\n",
       "      <td>Lovely delicious food, beautiful waitress, fan...</td>\n",
       "      <td>5</td>\n",
       "    </tr>\n",
       "    <tr>\n",
       "      <th>1</th>\n",
       "      <td>Best Indian in Bollington</td>\n",
       "      <td>Outstanding service and amazing curries ! All ...</td>\n",
       "      <td>5</td>\n",
       "    </tr>\n",
       "    <tr>\n",
       "      <th>2</th>\n",
       "      <td>Mother's Day treat.</td>\n",
       "      <td>A terrific return after 15 years to the area.\\...</td>\n",
       "      <td>5</td>\n",
       "    </tr>\n",
       "    <tr>\n",
       "      <th>3</th>\n",
       "      <td>Delicious !</td>\n",
       "      <td>Lovely tasty food.  Great selection and good p...</td>\n",
       "      <td>5</td>\n",
       "    </tr>\n",
       "    <tr>\n",
       "      <th>4</th>\n",
       "      <td>Loved it!!!!!!!!</td>\n",
       "      <td>Amazing birthday dinner.  The garlic naan, but...</td>\n",
       "      <td>5</td>\n",
       "    </tr>\n",
       "  </tbody>\n",
       "</table>\n",
       "</div>"
      ],
      "text/plain": [
       "                        quote   \n",
       "0                     Amazing  \\\n",
       "1  Best Indian in Bollington    \n",
       "2         Mother's Day treat.   \n",
       "3                 Delicious !   \n",
       "4            Loved it!!!!!!!!   \n",
       "\n",
       "                                               entry  rating  \n",
       "0  Lovely delicious food, beautiful waitress, fan...       5  \n",
       "1  Outstanding service and amazing curries ! All ...       5  \n",
       "2  A terrific return after 15 years to the area.\\...       5  \n",
       "3  Lovely tasty food.  Great selection and good p...       5  \n",
       "4  Amazing birthday dinner.  The garlic naan, but...       5  "
      ]
     },
     "execution_count": 12,
     "metadata": {},
     "output_type": "execute_result"
    }
   ],
   "source": [
    "reviews.head()"
   ]
  },
  {
   "cell_type": "code",
   "execution_count": 13,
   "id": "5201df19-36c9-4f66-a516-7e3b4c9ba5cf",
   "metadata": {},
   "outputs": [
    {
     "data": {
      "text/plain": [
       "(941, 3)"
      ]
     },
     "execution_count": 13,
     "metadata": {},
     "output_type": "execute_result"
    }
   ],
   "source": [
    "reviews.shape"
   ]
  },
  {
   "cell_type": "code",
   "execution_count": 14,
   "id": "d2caa89d-6d6f-426e-b2b1-84c12e858860",
   "metadata": {},
   "outputs": [
    {
     "data": {
      "text/plain": [
       "quote     0\n",
       "entry     0\n",
       "rating    0\n",
       "dtype: int64"
      ]
     },
     "execution_count": 14,
     "metadata": {},
     "output_type": "execute_result"
    }
   ],
   "source": [
    "reviews.isnull().sum()"
   ]
  },
  {
   "attachments": {},
   "cell_type": "markdown",
   "id": "9e3219c5-2268-4313-9abe-f6d3f7b7e17e",
   "metadata": {},
   "source": [
    "### Geting Model"
   ]
  },
  {
   "cell_type": "code",
   "execution_count": 15,
   "id": "ab9672f4-970d-40c4-83ed-cbebd4d86569",
   "metadata": {
    "collapsed": true,
    "jupyter": {
     "outputs_hidden": true
    },
    "tags": []
   },
   "outputs": [
    {
     "name": "stderr",
     "output_type": "stream",
     "text": [
      "All model checkpoint layers were used when initializing TFBertForSequenceClassification.\n",
      "\n",
      "All the layers of TFBertForSequenceClassification were initialized from the model checkpoint at nlptown/bert-base-multilingual-uncased-sentiment.\n",
      "If your task is similar to the task the model of the checkpoint was trained on, you can already use TFBertForSequenceClassification for predictions without further training.\n"
     ]
    }
   ],
   "source": [
    "tokenizer = AutoTokenizer.from_pretrained('nlptown/bert-base-multilingual-uncased-sentiment')\n",
    "model = TFAutoModelForSequenceClassification.from_pretrained('nlptown/bert-base-multilingual-uncased-sentiment')\n",
    "nlp = pipeline('sentiment-analysis', model=model, tokenizer=tokenizer)"
   ]
  },
  {
   "attachments": {},
   "cell_type": "markdown",
   "id": "d826727c-e0da-4a84-a75d-a76d60577b9d",
   "metadata": {},
   "source": [
    "### Sentiment Analysis"
   ]
  },
  {
   "cell_type": "code",
   "execution_count": 247,
   "id": "31f20969-2cc7-4f96-9b96-b44b9f99fd5e",
   "metadata": {},
   "outputs": [],
   "source": [
    "# creating new column with predicted data\n",
    "reviews[\"scores\"] = reviews[\"entry\"].apply(model_score)"
   ]
  },
  {
   "cell_type": "code",
   "execution_count": 16,
   "id": "d8382cc8-749d-46a4-a958-e12fe857fc33",
   "metadata": {},
   "outputs": [],
   "source": [
    "#reviews.to_csv(\"reviews_modified.csv\", index=False)\n",
    "#reviews = pd.read_csv(\"Data/reviews_modified.csv\")"
   ]
  },
  {
   "cell_type": "code",
   "execution_count": 17,
   "id": "0aef4cfe-d769-448c-acff-fece87c416ef",
   "metadata": {},
   "outputs": [
    {
     "data": {
      "text/html": [
       "<div>\n",
       "<style scoped>\n",
       "    .dataframe tbody tr th:only-of-type {\n",
       "        vertical-align: middle;\n",
       "    }\n",
       "\n",
       "    .dataframe tbody tr th {\n",
       "        vertical-align: top;\n",
       "    }\n",
       "\n",
       "    .dataframe thead th {\n",
       "        text-align: right;\n",
       "    }\n",
       "</style>\n",
       "<table border=\"1\" class=\"dataframe\">\n",
       "  <thead>\n",
       "    <tr style=\"text-align: right;\">\n",
       "      <th></th>\n",
       "      <th>quote</th>\n",
       "      <th>entry</th>\n",
       "      <th>rating</th>\n",
       "      <th>scores</th>\n",
       "    </tr>\n",
       "  </thead>\n",
       "  <tbody>\n",
       "    <tr>\n",
       "      <th>0</th>\n",
       "      <td>Amazing</td>\n",
       "      <td>Lovely delicious food, beautiful waitress, fan...</td>\n",
       "      <td>5</td>\n",
       "      <td>5</td>\n",
       "    </tr>\n",
       "    <tr>\n",
       "      <th>1</th>\n",
       "      <td>Best Indian in Bollington</td>\n",
       "      <td>Outstanding service and amazing curries ! All ...</td>\n",
       "      <td>5</td>\n",
       "      <td>5</td>\n",
       "    </tr>\n",
       "    <tr>\n",
       "      <th>2</th>\n",
       "      <td>Mother's Day treat.</td>\n",
       "      <td>A terrific return after 15 years to the area.\\...</td>\n",
       "      <td>5</td>\n",
       "      <td>5</td>\n",
       "    </tr>\n",
       "    <tr>\n",
       "      <th>3</th>\n",
       "      <td>Delicious !</td>\n",
       "      <td>Lovely tasty food.  Great selection and good p...</td>\n",
       "      <td>5</td>\n",
       "      <td>5</td>\n",
       "    </tr>\n",
       "    <tr>\n",
       "      <th>4</th>\n",
       "      <td>Loved it!!!!!!!!</td>\n",
       "      <td>Amazing birthday dinner.  The garlic naan, but...</td>\n",
       "      <td>5</td>\n",
       "      <td>5</td>\n",
       "    </tr>\n",
       "  </tbody>\n",
       "</table>\n",
       "</div>"
      ],
      "text/plain": [
       "                        quote   \n",
       "0                     Amazing  \\\n",
       "1  Best Indian in Bollington    \n",
       "2         Mother's Day treat.   \n",
       "3                 Delicious !   \n",
       "4            Loved it!!!!!!!!   \n",
       "\n",
       "                                               entry  rating  scores  \n",
       "0  Lovely delicious food, beautiful waitress, fan...       5       5  \n",
       "1  Outstanding service and amazing curries ! All ...       5       5  \n",
       "2  A terrific return after 15 years to the area.\\...       5       5  \n",
       "3  Lovely tasty food.  Great selection and good p...       5       5  \n",
       "4  Amazing birthday dinner.  The garlic naan, but...       5       5  "
      ]
     },
     "execution_count": 17,
     "metadata": {},
     "output_type": "execute_result"
    }
   ],
   "source": [
    "reviews.head()"
   ]
  },
  {
   "cell_type": "code",
   "execution_count": 18,
   "id": "0385336b-ac0d-4e0d-8efb-f3e0e9bb8275",
   "metadata": {},
   "outputs": [
    {
     "data": {
      "image/png": "[encoded data removed]",
      "text/plain": [
       "<Figure size 640x480 with 1 Axes>"
      ]
     },
     "metadata": {},
     "output_type": "display_data"
    }
   ],
   "source": [
    "# Comparing predictions to actual values\n",
    "visualize()"
   ]
  },
  {
   "cell_type": "code",
   "execution_count": null,
   "id": "8ba0f3c8-a094-4369-8d7e-e0d6e41d5aae",
   "metadata": {},
   "outputs": [],
   "source": []
  },
  {
   "cell_type": "code",
   "execution_count": null,
   "id": "8582ee10-a1fc-4757-a637-b407e3be80c6",
   "metadata": {},
   "outputs": [],
   "source": []
  },
  {
   "cell_type": "code",
   "execution_count": null,
   "id": "af9d3995-09ec-4fec-947e-329ed8cd9a62",
   "metadata": {},
   "outputs": [],
   "source": []
  }
 ],
 "metadata": {
  "kernelspec": {
   "display_name": "TensorFlow",
   "language": "python",
   "name": "tf"
  },
  "language_info": {
   "codemirror_mode": {
    "name": "ipython",
    "version": 3
   },
   "file_extension": ".py",
   "mimetype": "text/x-python",
   "name": "python",
   "nbconvert_exporter": "python",
   "pygments_lexer": "ipython3",
   "version": "3.10.10"
  }
 },
 "nbformat": 4,
 "nbformat_minor": 5
}
